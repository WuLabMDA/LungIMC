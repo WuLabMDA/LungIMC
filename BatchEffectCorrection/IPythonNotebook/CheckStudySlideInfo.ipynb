{
 "cells": [
  {
   "cell_type": "code",
   "execution_count": 1,
   "metadata": {},
   "outputs": [],
   "source": [
    "import os, sys\n",
    "import numpy as np\n",
    "import pandas as pd"
   ]
  },
  {
   "cell_type": "code",
   "execution_count": 2,
   "metadata": {},
   "outputs": [],
   "source": [
    "# StudySlide_Info path\n",
    "studyslide_info_path = \"../Metadata/StudySlide_Info.xlsx\""
   ]
  },
  {
   "cell_type": "code",
   "execution_count": 3,
   "metadata": {},
   "outputs": [],
   "source": [
    "slide_info = pd.read_excel(studyslide_info_path, sheet_name = \"Sheet1\", header= 0, index_col=None)"
   ]
  },
  {
   "cell_type": "code",
   "execution_count": 4,
   "metadata": {},
   "outputs": [
    {
     "data": {
      "text/plain": [
       "Index(['Slide_ID', 'Slide_Diag', 'TisssueSlice', 'Patient_ID', 'Staining_ID'], dtype='object')"
      ]
     },
     "execution_count": 4,
     "metadata": {},
     "output_type": "execute_result"
    }
   ],
   "source": [
    "# List all column ids\n",
    "slide_info.keys()"
   ]
  },
  {
   "cell_type": "code",
   "execution_count": 5,
   "metadata": {},
   "outputs": [
    {
     "data": {
      "text/html": [
       "<div>\n",
       "<style scoped>\n",
       "    .dataframe tbody tr th:only-of-type {\n",
       "        vertical-align: middle;\n",
       "    }\n",
       "\n",
       "    .dataframe tbody tr th {\n",
       "        vertical-align: top;\n",
       "    }\n",
       "\n",
       "    .dataframe thead th {\n",
       "        text-align: right;\n",
       "    }\n",
       "</style>\n",
       "<table border=\"1\" class=\"dataframe\">\n",
       "  <thead>\n",
       "    <tr style=\"text-align: right;\">\n",
       "      <th></th>\n",
       "      <th>Slide_ID</th>\n",
       "      <th>Slide_Diag</th>\n",
       "      <th>TisssueSlice</th>\n",
       "      <th>Patient_ID</th>\n",
       "      <th>Staining_ID</th>\n",
       "    </tr>\n",
       "  </thead>\n",
       "  <tbody>\n",
       "    <tr>\n",
       "      <th>0</th>\n",
       "      <td>697s-1H</td>\n",
       "      <td>ADC</td>\n",
       "      <td>22</td>\n",
       "      <td>697s</td>\n",
       "      <td>11-20-2020</td>\n",
       "    </tr>\n",
       "    <tr>\n",
       "      <th>1</th>\n",
       "      <td>2017-1B</td>\n",
       "      <td>AAH</td>\n",
       "      <td>29</td>\n",
       "      <td>2017</td>\n",
       "      <td>11-20-2020</td>\n",
       "    </tr>\n",
       "    <tr>\n",
       "      <th>2</th>\n",
       "      <td>2017-1G</td>\n",
       "      <td>ADC</td>\n",
       "      <td>22</td>\n",
       "      <td>2017</td>\n",
       "      <td>11-20-2020</td>\n",
       "    </tr>\n",
       "    <tr>\n",
       "      <th>3</th>\n",
       "      <td>2017-1C</td>\n",
       "      <td>AAH</td>\n",
       "      <td>29</td>\n",
       "      <td>2017</td>\n",
       "      <td>11-20-2020</td>\n",
       "    </tr>\n",
       "    <tr>\n",
       "      <th>4</th>\n",
       "      <td>2405-2E</td>\n",
       "      <td>ADC</td>\n",
       "      <td>22</td>\n",
       "      <td>2405</td>\n",
       "      <td>11-20-2020</td>\n",
       "    </tr>\n",
       "    <tr>\n",
       "      <th>...</th>\n",
       "      <td>...</td>\n",
       "      <td>...</td>\n",
       "      <td>...</td>\n",
       "      <td>...</td>\n",
       "      <td>...</td>\n",
       "    </tr>\n",
       "    <tr>\n",
       "      <th>118</th>\n",
       "      <td>H16-0588-10</td>\n",
       "      <td>ADC</td>\n",
       "      <td>16</td>\n",
       "      <td>H16-0588</td>\n",
       "      <td>01-20-2022</td>\n",
       "    </tr>\n",
       "    <tr>\n",
       "      <th>119</th>\n",
       "      <td>2608-I9</td>\n",
       "      <td>AAH</td>\n",
       "      <td>29</td>\n",
       "      <td>2608</td>\n",
       "      <td>12-21-2021</td>\n",
       "    </tr>\n",
       "    <tr>\n",
       "      <th>120</th>\n",
       "      <td>2323-1D</td>\n",
       "      <td>ADC</td>\n",
       "      <td>22</td>\n",
       "      <td>2323</td>\n",
       "      <td>01-20-2022</td>\n",
       "    </tr>\n",
       "    <tr>\n",
       "      <th>121</th>\n",
       "      <td>H16-0223-9</td>\n",
       "      <td>ADC</td>\n",
       "      <td>16</td>\n",
       "      <td>H16-0223</td>\n",
       "      <td>01-20-2022</td>\n",
       "    </tr>\n",
       "    <tr>\n",
       "      <th>122</th>\n",
       "      <td>H09-0259-1</td>\n",
       "      <td>AAH</td>\n",
       "      <td>5</td>\n",
       "      <td>H09-0259</td>\n",
       "      <td>12-21-2021</td>\n",
       "    </tr>\n",
       "  </tbody>\n",
       "</table>\n",
       "<p>123 rows × 5 columns</p>\n",
       "</div>"
      ],
      "text/plain": [
       "        Slide_ID Slide_Diag  TisssueSlice Patient_ID Staining_ID\n",
       "0        697s-1H        ADC            22       697s  11-20-2020\n",
       "1        2017-1B        AAH            29       2017  11-20-2020\n",
       "2        2017-1G        ADC            22       2017  11-20-2020\n",
       "3        2017-1C        AAH            29       2017  11-20-2020\n",
       "4        2405-2E        ADC            22       2405  11-20-2020\n",
       "..           ...        ...           ...        ...         ...\n",
       "118  H16-0588-10        ADC            16   H16-0588  01-20-2022\n",
       "119      2608-I9        AAH            29       2608  12-21-2021\n",
       "120      2323-1D        ADC            22       2323  01-20-2022\n",
       "121   H16-0223-9        ADC            16   H16-0223  01-20-2022\n",
       "122   H09-0259-1        AAH             5   H09-0259  12-21-2021\n",
       "\n",
       "[123 rows x 5 columns]"
      ]
     },
     "execution_count": 5,
     "metadata": {},
     "output_type": "execute_result"
    }
   ],
   "source": [
    "slide_info"
   ]
  },
  {
   "cell_type": "code",
   "execution_count": 6,
   "metadata": {},
   "outputs": [
    {
     "name": "stdout",
     "output_type": "stream",
     "text": [
      "Unique diagnosis is: {'AIS+AAH', 'Normal', 'MIA', 'ADC', 'AIS', 'AAH'}\n",
      "AIS+AAH has 1 slides.\n",
      "Normal has 10 slides.\n",
      "MIA has 18 slides.\n",
      "ADC has 34 slides.\n",
      "AIS has 21 slides.\n",
      "AAH has 39 slides.\n"
     ]
    }
   ],
   "source": [
    "# Check diagnosis information\n",
    "diag_list = slide_info[\"Slide_Diag\"].tolist()\n",
    "unique_diags = set(diag_list)\n",
    "print(\"Unique diagnosis is: {}\".format(unique_diags))\n",
    "for ele in unique_diags:\n",
    "    print(\"{} has {} slides.\".format(ele, diag_list.count(ele)))"
   ]
  },
  {
   "cell_type": "code",
   "execution_count": 7,
   "metadata": {},
   "outputs": [],
   "source": [
    "# Check Patient-ID information\n",
    "slide_id_list = slide_info[\"Slide_ID\"].tolist()\n",
    "patient_id_list = slide_info[\"Patient_ID\"].tolist()\n",
    "for ind in range(len(slide_id_list)):\n",
    "    cur_id = slide_id_list[ind]\n",
    "    p_id = cur_id[:cur_id.rfind(\"-\")]\n",
    "    if p_id != patient_id_list[ind]:\n",
    "        print(cur_id)"
   ]
  },
  {
   "cell_type": "code",
   "execution_count": 8,
   "metadata": {},
   "outputs": [],
   "source": [
    "# Check slide name consistency\n",
    "study_roi_dir = \"../StudySlidesROIs\"\n",
    "slide_list = [ele for ele in os.listdir(study_roi_dir) if os.path.isdir(os.path.join(study_roi_dir, ele))]\n",
    "for ele in slide_list:\n",
    "    if ele not in slide_id_list:\n",
    "        print(ele)"
   ]
  },
  {
   "cell_type": "code",
   "execution_count": 9,
   "metadata": {},
   "outputs": [
    {
     "name": "stdout",
     "output_type": "stream",
     "text": [
      "Number of patients: 62\n",
      "Patient Ids are:\n",
      "['697s', '2017', '2405', '2323', '2420', '2318', '2325', '2248', '2166', '2241', '2582', '2571', '2538', '2493', '2513', '2485', 'H18-0130', '2621', '2532', '2608', '2618', 'H18-0271', 'H18-0518', 'H18-0712', 'H18-0656', 'H18-0254', 'H18-0255', 'H18-0331', 'H18-0201', 'H18-0455', 'H18-0454', 'H17-0179', 'H18-0205', 'H17-0285', 'H13-0307', 'H10-0553', 'H16-0685', 'H10-0702', 'H18-0360', 'H14-0608', 'H12-0330', 'H14-0599', 'H10-0526', 'H17-0458', 'H17-0221', 'H15-0129', 'H13-0583', 'H12-0305', 'H16-0206', 'H14-0290', 'H12-0235', 'H18-0052', 'H11-0330', 'H09-0054', 'H11-0383', 'H10-0271', 'H16-0588', 'H08-0377', 'H15-0519', 'H16-0223', 'H09-0259', 'H18-0165']\n"
     ]
    }
   ],
   "source": [
    "# Identify distinct patient ids with order\n",
    "from collections import OrderedDict\n",
    "unique_p_ids = list(OrderedDict.fromkeys(patient_id_list))\n",
    "print(\"Number of patients: {}\".format(len(unique_p_ids)))\n",
    "print(\"Patient Ids are:\")\n",
    "print(unique_p_ids)"
   ]
  },
  {
   "cell_type": "code",
   "execution_count": 10,
   "metadata": {},
   "outputs": [],
   "source": [
    "# Patient Information\n",
    "patient_info_path = \"../Metadata/Patient_Info.xlsx\"\n",
    "patient_info = pd.read_excel(patient_info_path, sheet_name = \"Sheet1\", header= 0, index_col=None)\n",
    "pat_ids = patient_info[\"Patient_ID\"].tolist()\n",
    "pat_ids = [str(ele) for ele in pat_ids]"
   ]
  },
  {
   "cell_type": "code",
   "execution_count": 11,
   "metadata": {},
   "outputs": [],
   "source": [
    "for ele in unique_p_ids:\n",
    "    if ele not in pat_ids:\n",
    "        print(ele)"
   ]
  }
 ],
 "metadata": {
  "kernelspec": {
   "display_name": "Python 3",
   "language": "python",
   "name": "python3"
  },
  "language_info": {
   "codemirror_mode": {
    "name": "ipython",
    "version": 3
   },
   "file_extension": ".py",
   "mimetype": "text/x-python",
   "name": "python",
   "nbconvert_exporter": "python",
   "pygments_lexer": "ipython3",
   "version": "3.8.5"
  }
 },
 "nbformat": 4,
 "nbformat_minor": 4
}
