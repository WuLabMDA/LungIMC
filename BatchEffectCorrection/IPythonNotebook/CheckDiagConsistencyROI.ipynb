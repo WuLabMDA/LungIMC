{
 "cells": [
  {
   "cell_type": "code",
   "execution_count": 1,
   "metadata": {},
   "outputs": [],
   "source": [
    "import os, sys\n",
    "import numpy as np\n",
    "import pandas as pd"
   ]
  },
  {
   "cell_type": "code",
   "execution_count": 2,
   "metadata": {},
   "outputs": [],
   "source": [
    "data_root = \"E:/LungIMCData\""
   ]
  },
  {
   "cell_type": "markdown",
   "metadata": {},
   "source": [
    "## Obtain ROI Location"
   ]
  },
  {
   "cell_type": "code",
   "execution_count": 3,
   "metadata": {},
   "outputs": [],
   "source": [
    "roi_info_path = os.path.join(data_root, \"Metadata/StudyROI_Info.xlsx\")\n",
    "roi_info = pd.read_excel(roi_info_path, sheet_name = \"Sheet1\", header= 0, index_col=None)"
   ]
  },
  {
   "cell_type": "code",
   "execution_count": 4,
   "metadata": {},
   "outputs": [],
   "source": [
    "roi_ids, roi_diags = roi_info[\"ROI_ID\"], roi_info[\"ROI_Diag\"]"
   ]
  },
  {
   "cell_type": "code",
   "execution_count": 5,
   "metadata": {},
   "outputs": [],
   "source": [
    "slide_diag = {}"
   ]
  },
  {
   "cell_type": "code",
   "execution_count": 6,
   "metadata": {},
   "outputs": [],
   "source": [
    "for roi_id, roi_diag in zip(roi_ids, roi_diags):\n",
    "    cur_slide = roi_id[:roi_id.rfind(\"-\")]\n",
    "    slide_diag[cur_slide] = []"
   ]
  },
  {
   "cell_type": "code",
   "execution_count": 7,
   "metadata": {},
   "outputs": [],
   "source": [
    "for roi_id, roi_diag in zip(roi_ids, roi_diags):\n",
    "    cur_slide = roi_id[:roi_id.rfind(\"-\")]\n",
    "    slide_diag[cur_slide].append(roi_diag)"
   ]
  },
  {
   "cell_type": "code",
   "execution_count": 8,
   "metadata": {},
   "outputs": [
    {
     "name": "stdout",
     "output_type": "stream",
     "text": [
      "2571-1D has 2 ROI diagnosis\n"
     ]
    }
   ],
   "source": [
    "slide_diag_dict = {}\n",
    "for key, value in slide_diag.items():\n",
    "    if len(set(value)) != 1:\n",
    "        print(\"{} has {} ROI diagnosis\".format(key, len(set(value))))\n",
    "        slide_diag_dict[key] = \"+\".join(list(set(value)))\n",
    "    else:\n",
    "        slide_diag_dict[key] = value[0]"
   ]
  },
  {
   "cell_type": "markdown",
   "metadata": {},
   "source": [
    "## Obtain Slide Information"
   ]
  },
  {
   "cell_type": "code",
   "execution_count": 9,
   "metadata": {},
   "outputs": [],
   "source": [
    "slide_info_path = os.path.join(data_root, \"Metadata/StudySlide_Info.xlsx\")\n",
    "slide_info = pd.read_excel(slide_info_path, sheet_name = \"Sheet1\", header= 0, index_col=None)"
   ]
  },
  {
   "cell_type": "code",
   "execution_count": 10,
   "metadata": {},
   "outputs": [],
   "source": [
    "slide_dict = {}\n",
    "for slide_id, slide_diag in zip(slide_info[\"Slide_ID\"], slide_info[\"Slide_Diag\"]):\n",
    "    slide_dict[slide_id] = slide_diag"
   ]
  },
  {
   "cell_type": "code",
   "execution_count": 11,
   "metadata": {},
   "outputs": [],
   "source": [
    "for key in slide_diag_dict.keys():\n",
    "    if slide_diag_dict[key] != slide_dict[key]:\n",
    "        print(\"{} has different diagnosis {} and {}\".format(key, slide_diag_dict[key], slide_dict[key]))"
   ]
  },
  {
   "cell_type": "code",
   "execution_count": null,
   "metadata": {},
   "outputs": [],
   "source": []
  }
 ],
 "metadata": {
  "kernelspec": {
   "display_name": "Python 3",
   "language": "python",
   "name": "python3"
  },
  "language_info": {
   "codemirror_mode": {
    "name": "ipython",
    "version": 3
   },
   "file_extension": ".py",
   "mimetype": "text/x-python",
   "name": "python",
   "nbconvert_exporter": "python",
   "pygments_lexer": "ipython3",
   "version": "3.8.5"
  }
 },
 "nbformat": 4,
 "nbformat_minor": 4
}
