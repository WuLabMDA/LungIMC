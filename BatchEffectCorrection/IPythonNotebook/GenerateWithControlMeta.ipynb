{
 "cells": [
  {
   "cell_type": "code",
   "execution_count": 1,
   "metadata": {},
   "outputs": [],
   "source": [
    "import os, sys\n",
    "import numpy as np\n",
    "import pandas as pd"
   ]
  },
  {
   "cell_type": "markdown",
   "metadata": {},
   "source": [
    "## Obtain ROI List"
   ]
  },
  {
   "cell_type": "code",
   "execution_count": 2,
   "metadata": {},
   "outputs": [
    {
     "name": "stdout",
     "output_type": "stream",
     "text": [
      "Number of study ROI is: 1623\n",
      "Number of tonsil ROI is: 55\n",
      "Total number of ROI is: 1678\n"
     ]
    }
   ],
   "source": [
    "roi_list = []\n",
    "study_fea_dir = \"../StudyProcessing/CellFeas\"\n",
    "study_roi_list = [os.path.splitext(ele)[0] for ele in os.listdir(study_fea_dir) if ele.endswith(\".npy\")]\n",
    "roi_list.extend(study_roi_list)\n",
    "print(\"Number of study ROI is: {}\".format(len(study_roi_list)))\n",
    "tonsil_fea_dir = \"../TonsilProcessing/CellFeas\"\n",
    "tonsil_roi_list = [os.path.splitext(ele)[0] for ele in os.listdir(tonsil_fea_dir) if ele.endswith(\".npy\")]\n",
    "roi_list.extend(tonsil_roi_list)\n",
    "print(\"Number of tonsil ROI is: {}\".format(len(tonsil_roi_list)))\n",
    "print(\"Total number of ROI is: {}\".format(len(roi_list)))"
   ]
  },
  {
   "cell_type": "markdown",
   "metadata": {},
   "source": [
    "## Obtain Batch ID"
   ]
  },
  {
   "cell_type": "code",
   "execution_count": 3,
   "metadata": {},
   "outputs": [
    {
     "name": "stdout",
     "output_type": "stream",
     "text": [
      "Length of batch list is: 1678\n"
     ]
    }
   ],
   "source": [
    "batch_list = []\n",
    "study_slide_info_path = \"../Metadata/StudySlide_Info.xlsx\"\n",
    "study_slide_info = pd.read_excel(study_slide_info_path, sheet_name = \"Sheet1\", header= 0, index_col=None)\n",
    "study_batch_dict = {key: value for (key, value) in zip(study_slide_info[\"Slide_ID\"], study_slide_info[\"Staining_ID\"])}\n",
    "study_batch_list = [study_batch_dict[ele[:ele.rfind(\"-\")]] for ele in study_roi_list]\n",
    "batch_list.extend(study_batch_list)\n",
    "tonsil_batch_list = [ele[:ele.rfind(\"-\")] for ele in tonsil_roi_list]\n",
    "batch_list.extend(tonsil_batch_list)\n",
    "print(\"Length of batch list is: {}\".format(len(batch_list)))"
   ]
  },
  {
   "cell_type": "markdown",
   "metadata": {},
   "source": [
    "## Obtain ROI Location"
   ]
  },
  {
   "cell_type": "code",
   "execution_count": 4,
   "metadata": {},
   "outputs": [],
   "source": [
    "loc_list = []\n",
    "study_roi_info_path = \"../Metadata/StudyROI_Info.xlsx\"\n",
    "slide_roi_info = pd.read_excel(study_roi_info_path, sheet_name = \"Sheet1\", header= 0, index_col=None)\n",
    "name_loc_dict = {key: value for (key, value) in zip(slide_roi_info[\"ROI_ID\"], slide_roi_info[\"ROI_Location\"])}\n",
    "name_diag_dict = {key: value for (key, value) in zip(slide_roi_info[\"ROI_ID\"], slide_roi_info[\"ROI_Diag\"])}"
   ]
  },
  {
   "cell_type": "code",
   "execution_count": 5,
   "metadata": {},
   "outputs": [],
   "source": [
    "study_loc_list = []\n",
    "for ele in study_roi_list:\n",
    "    roi_loc = name_loc_dict[ele]\n",
    "    if roi_loc in [\"AdjacentNormal\", \"DistantNormal\", \"Normal\"]:\n",
    "        study_loc_list.append(name_loc_dict[ele])\n",
    "    elif roi_loc == \"Tumor\":\n",
    "        study_loc_list.append(\"Tumor\" + \"-\" + name_diag_dict[ele])\n",
    "    else:\n",
    "        print(\"Unknow location: {}\".format(roi_loc))\n",
    "loc_list.extend(study_loc_list)"
   ]
  },
  {
   "cell_type": "code",
   "execution_count": 6,
   "metadata": {},
   "outputs": [
    {
     "name": "stdout",
     "output_type": "stream",
     "text": [
      "Total number of study list is: 1623\n",
      "AdjacentNormal has 94 ROIs\n",
      "DistantNormal has 67 ROIs\n",
      "Normal has 50 ROIs\n",
      "Tumor-AAH has 226 ROIs\n",
      "Tumor-ADC has 563 ROIs\n",
      "Tumor-AIS has 314 ROIs\n",
      "Tumor-MIA has 309 ROIs\n"
     ]
    }
   ],
   "source": [
    "print(\"Total number of study list is: {}\".format(len(study_loc_list)))\n",
    "(unique, counts) = np.unique(study_loc_list, return_counts=True)\n",
    "for x, y in zip (unique, counts):\n",
    "    print(\"{} has {} ROIs\".format(x, y))"
   ]
  },
  {
   "cell_type": "code",
   "execution_count": 7,
   "metadata": {},
   "outputs": [
    {
     "name": "stdout",
     "output_type": "stream",
     "text": [
      "Total number of loc is: 1678\n"
     ]
    }
   ],
   "source": [
    "tonsil_loc_list = [\"Normal\" for ele in tonsil_roi_list]\n",
    "# print(\"Total number of tonsil list is: {}\".format(len(tonsil_loc_list)))\n",
    "# print(list(set(tonsil_loc_list)))\n",
    "loc_list.extend(tonsil_loc_list)\n",
    "print(\"Total number of loc is: {}\".format(len(loc_list)))"
   ]
  },
  {
   "cell_type": "markdown",
   "metadata": {},
   "source": [
    "## Obtain Replicate information"
   ]
  },
  {
   "cell_type": "code",
   "execution_count": 8,
   "metadata": {},
   "outputs": [
    {
     "name": "stdout",
     "output_type": "stream",
     "text": [
      "total number of anchor is: 1678\n"
     ]
    }
   ],
   "source": [
    "anchor_list = []\n",
    "study_anchor_list = [\"nonrep{}\".format(ind+1) for ind, val in enumerate(study_roi_list)]\n",
    "anchor_list.extend(study_anchor_list)\n",
    "tonsil_anchor_list = [\"Replicates\" for ele in tonsil_roi_list]\n",
    "anchor_list.extend(tonsil_anchor_list)\n",
    "print(\"total number of anchor is: {}\".format(len(anchor_list)))"
   ]
  },
  {
   "cell_type": "markdown",
   "metadata": {},
   "source": [
    "## Save With Control Meta Information"
   ]
  },
  {
   "cell_type": "code",
   "execution_count": 9,
   "metadata": {},
   "outputs": [],
   "source": [
    "withcontrol_meta_df = pd.DataFrame({\n",
    "    \"Filename\": roi_list,\n",
    "    \"Batch\": batch_list,\n",
    "    \"Condition\": loc_list,\n",
    "    \"Anchor\": anchor_list\n",
    "})\n",
    "withcontrol_meta_path = os.path.join(\"../BatchCorrection/Metadata\", \"WithControlMetaIMC.csv\")\n",
    "withcontrol_meta_df.to_csv(withcontrol_meta_path, index=False)"
   ]
  }
 ],
 "metadata": {
  "kernelspec": {
   "display_name": "Python 3",
   "language": "python",
   "name": "python3"
  },
  "language_info": {
   "codemirror_mode": {
    "name": "ipython",
    "version": 3
   },
   "file_extension": ".py",
   "mimetype": "text/x-python",
   "name": "python",
   "nbconvert_exporter": "python",
   "pygments_lexer": "ipython3",
   "version": "3.8.5"
  }
 },
 "nbformat": 4,
 "nbformat_minor": 4
}
