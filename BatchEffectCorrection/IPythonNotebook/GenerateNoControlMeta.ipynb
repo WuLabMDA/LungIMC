{
 "cells": [
  {
   "cell_type": "code",
   "execution_count": 6,
   "metadata": {},
   "outputs": [],
   "source": [
    "import os, sys\n",
    "import numpy as np\n",
    "import pandas as pd"
   ]
  },
  {
   "cell_type": "markdown",
   "metadata": {},
   "source": [
    "## Obtain ROI List"
   ]
  },
  {
   "cell_type": "code",
   "execution_count": 7,
   "metadata": {},
   "outputs": [],
   "source": [
    "cell_fea_dir = \"../BatchCorrection/NoControl/CellFeas\"\n",
    "study_roi_list = sorted([os.path.splitext(ele)[0] for ele in os.listdir(cell_fea_dir) if ele.endswith(\".npy\")])"
   ]
  },
  {
   "cell_type": "markdown",
   "metadata": {},
   "source": [
    "## Obtain Batch ID"
   ]
  },
  {
   "cell_type": "code",
   "execution_count": 8,
   "metadata": {},
   "outputs": [],
   "source": [
    "study_slide_info_path = \"../Metadata/StudySlide_Info.xlsx\"\n",
    "slide_slide_info = pd.read_excel(study_slide_info_path, sheet_name = \"Sheet1\", header= 0, index_col=None)"
   ]
  },
  {
   "cell_type": "code",
   "execution_count": 9,
   "metadata": {},
   "outputs": [],
   "source": [
    "slide_batch_dict = {key: value for (key, value) in zip(slide_slide_info[\"Slide_ID\"], slide_slide_info[\"Staining_ID\"])}"
   ]
  },
  {
   "cell_type": "code",
   "execution_count": 10,
   "metadata": {},
   "outputs": [],
   "source": [
    "roi_stain_list = [slide_batch_dict[ele[:ele.rfind(\"-\")]] for ele in study_roi_list]"
   ]
  },
  {
   "cell_type": "markdown",
   "metadata": {},
   "source": [
    "## Obtain ROI Location"
   ]
  },
  {
   "cell_type": "code",
   "execution_count": 11,
   "metadata": {},
   "outputs": [],
   "source": [
    "study_roi_info_path = \"../Metadata/StudyROI_Info.xlsx\"\n",
    "slide_roi_info = pd.read_excel(study_roi_info_path, sheet_name = \"Sheet1\", header= 0, index_col=None)"
   ]
  },
  {
   "cell_type": "code",
   "execution_count": 12,
   "metadata": {},
   "outputs": [],
   "source": [
    "name_loc_dict = {key: value for (key, value) in zip(slide_roi_info[\"ROI_ID\"], slide_roi_info[\"ROI_Location\"])}\n",
    "name_diag_dict = {key: value for (key, value) in zip(slide_roi_info[\"ROI_ID\"], slide_roi_info[\"ROI_Diag\"])}"
   ]
  },
  {
   "cell_type": "code",
   "execution_count": 13,
   "metadata": {},
   "outputs": [],
   "source": [
    "roi_loc_list = []\n",
    "for ele in study_roi_list:\n",
    "    roi_loc = name_loc_dict[ele]\n",
    "    if roi_loc in [\"AdjacentNormal\", \"DistantNormal\", \"Normal\"]:\n",
    "        roi_loc_list.append(name_loc_dict[ele])\n",
    "    elif roi_loc == \"Tumor\":\n",
    "        roi_loc_list.append(\"Tumor\" + \"-\" + name_diag_dict[ele])\n",
    "    else:\n",
    "        print(\"Unknow location: {}\".format(roi_loc))"
   ]
  },
  {
   "cell_type": "code",
   "execution_count": 14,
   "metadata": {},
   "outputs": [
    {
     "data": {
      "text/plain": [
       "{'AdjacentNormal': 94,\n",
       " 'DistantNormal': 67,\n",
       " 'Normal': 50,\n",
       " 'Tumor-AAH': 226,\n",
       " 'Tumor-ADC': 563,\n",
       " 'Tumor-AIS': 314,\n",
       " 'Tumor-MIA': 309}"
      ]
     },
     "execution_count": 14,
     "metadata": {},
     "output_type": "execute_result"
    }
   ],
   "source": [
    "(unique, counts) = np.unique(roi_loc_list, return_counts=True)\n",
    "{x:y for x,y in zip(unique, counts)}"
   ]
  },
  {
   "cell_type": "markdown",
   "metadata": {},
   "source": [
    "## Save No Control Meta Information"
   ]
  },
  {
   "cell_type": "code",
   "execution_count": 15,
   "metadata": {},
   "outputs": [],
   "source": [
    "nocontrol_meta_df = pd.DataFrame({\n",
    "    \"Filename\": study_roi_list,\n",
    "    \"Batch\": roi_stain_list,\n",
    "    \"Condition\": roi_loc_list\n",
    "})"
   ]
  },
  {
   "cell_type": "code",
   "execution_count": 16,
   "metadata": {},
   "outputs": [],
   "source": [
    "nocontrol_meta_path = os.path.join(\"../BatchCorrection/Metadata\", \"NoControlMetaIMC.csv\")\n",
    "nocontrol_meta_df.to_csv(nocontrol_meta_path, index=False)"
   ]
  }
 ],
 "metadata": {
  "kernelspec": {
   "display_name": "Python 3",
   "language": "python",
   "name": "python3"
  },
  "language_info": {
   "codemirror_mode": {
    "name": "ipython",
    "version": 3
   },
   "file_extension": ".py",
   "mimetype": "text/x-python",
   "name": "python",
   "nbconvert_exporter": "python",
   "pygments_lexer": "ipython3",
   "version": "3.8.5"
  }
 },
 "nbformat": 4,
 "nbformat_minor": 4
}
