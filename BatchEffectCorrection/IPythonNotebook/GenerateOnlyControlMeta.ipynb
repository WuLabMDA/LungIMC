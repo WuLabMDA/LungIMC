{
 "cells": [
  {
   "cell_type": "code",
   "execution_count": 1,
   "metadata": {},
   "outputs": [],
   "source": [
    "import os, sys\n",
    "import numpy as np\n",
    "import pandas as pd"
   ]
  },
  {
   "cell_type": "code",
   "execution_count": 2,
   "metadata": {},
   "outputs": [],
   "source": [
    "data_root = \"E:/LungIMCData\""
   ]
  },
  {
   "cell_type": "code",
   "execution_count": 3,
   "metadata": {},
   "outputs": [],
   "source": [
    "cell_fea_dir = os.path.join(data_root, \"BatchCorrection/OnlyControl/CellFeas\")\n",
    "tonsil_roi_list = sorted([os.path.splitext(ele)[0] for ele in os.listdir(cell_fea_dir) if ele.endswith(\".npy\")])"
   ]
  },
  {
   "cell_type": "code",
   "execution_count": 4,
   "metadata": {},
   "outputs": [],
   "source": [
    "tonsil_roi_info_path = os.path.join(data_root, \"Metadata/ControlROI_Info.xlsx\")\n",
    "tonsil_roi_info = pd.read_excel(tonsil_roi_info_path, sheet_name = \"Sheet1\", header= 0, index_col=None)"
   ]
  },
  {
   "cell_type": "code",
   "execution_count": 5,
   "metadata": {},
   "outputs": [],
   "source": [
    "roi_list = tonsil_roi_info[\"ROI_ID\"].tolist()\n",
    "stain_list = tonsil_roi_info[\"Staining_ID\"].tolist()"
   ]
  },
  {
   "cell_type": "markdown",
   "metadata": {},
   "source": [
    "## Save Only Control Meta Information"
   ]
  },
  {
   "cell_type": "code",
   "execution_count": 6,
   "metadata": {},
   "outputs": [],
   "source": [
    "onlycontrol_meta_df = pd.DataFrame({\n",
    "    \"Filename\": roi_list,\n",
    "    \"Batch\": stain_list\n",
    "})"
   ]
  },
  {
   "cell_type": "code",
   "execution_count": 7,
   "metadata": {},
   "outputs": [],
   "source": [
    "onlycontrol_meta_path = os.path.join(data_root, \"BatchCorrection/Metadata\", \"OnlyControlMetaIMC.csv\")\n",
    "onlycontrol_meta_df.to_csv(onlycontrol_meta_path, index=False)"
   ]
  },
  {
   "cell_type": "code",
   "execution_count": null,
   "metadata": {},
   "outputs": [],
   "source": []
  }
 ],
 "metadata": {
  "kernelspec": {
   "display_name": "Python 3",
   "language": "python",
   "name": "python3"
  },
  "language_info": {
   "codemirror_mode": {
    "name": "ipython",
    "version": 3
   },
   "file_extension": ".py",
   "mimetype": "text/x-python",
   "name": "python",
   "nbconvert_exporter": "python",
   "pygments_lexer": "ipython3",
   "version": "3.8.5"
  }
 },
 "nbformat": 4,
 "nbformat_minor": 4
}
