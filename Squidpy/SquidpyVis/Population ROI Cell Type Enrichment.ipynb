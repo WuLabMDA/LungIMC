{
 "cells": [
  {
   "cell_type": "code",
   "execution_count": 1,
   "metadata": {},
   "outputs": [],
   "source": [
    "import os, sys\n",
    "import numpy as np"
   ]
  },
  {
   "cell_type": "code",
   "execution_count": 2,
   "metadata": {},
   "outputs": [],
   "source": [
    "from skimage import io\n",
    "import pandas as pd\n",
    "import json"
   ]
  },
  {
   "cell_type": "code",
   "execution_count": 3,
   "metadata": {},
   "outputs": [],
   "source": [
    "import anndata\n",
    "import scanpy as sc\n",
    "import squidpy as sq"
   ]
  },
  {
   "cell_type": "code",
   "execution_count": 4,
   "metadata": {},
   "outputs": [],
   "source": [
    "data_root = r\"E:\\LungIMCData\\HumanSampling35\\LungROIProcessing\\Steinbock\""
   ]
  },
  {
   "cell_type": "code",
   "execution_count": 5,
   "metadata": {},
   "outputs": [],
   "source": [
    "rois_h5ad_path = os.path.join(data_root, \"rois.h5ad\")\n",
    "rois_adata = sc.read_h5ad(rois_h5ad_path)"
   ]
  },
  {
   "cell_type": "code",
   "execution_count": 6,
   "metadata": {},
   "outputs": [],
   "source": [
    "# add spatial coordinates\n",
    "spatial_coords = np.transpose(np.asarray([rois_adata.obs[\"centroid-1\"].tolist(), rois_adata.obs[\"centroid-0\"].tolist()]))\n",
    "rois_adata.obsm[\"spatial\"] = spatial_coords"
   ]
  },
  {
   "cell_type": "code",
   "execution_count": 7,
   "metadata": {},
   "outputs": [],
   "source": [
    "# obtain roi list based on h5ad file\n",
    "roi_list = []\n",
    "for cur_roi in rois_adata.obs[\"image\"]:\n",
    "    cur_roi_name = cur_roi[:-5]\n",
    "    if cur_roi_name not in roi_list:\n",
    "        roi_list.append(cur_roi_name)"
   ]
  },
  {
   "cell_type": "code",
   "execution_count": 8,
   "metadata": {},
   "outputs": [],
   "source": [
    "# load cell phenotype & library ids information\n",
    "cell_phenotype_dict = None\n",
    "cell_phenotype_path = os.path.join(data_root, \"cell_phenotypes.json\")\n",
    "with open(cell_phenotype_path) as fp:\n",
    "    cell_phenotype_dict = json.load(fp)\n",
    "cell_ids = [ele for ele in cell_phenotype_dict.keys()]\n",
    "cell_phenotypes = []\n",
    "library_ids = []\n",
    "cell_nums = []\n",
    "# collect roi list\n",
    "roi_lst = []\n",
    "for cell_id in cell_ids:\n",
    "    roi_name = cell_id[:cell_id.rfind(\"_\")]\n",
    "    if roi_name not in roi_lst:\n",
    "        roi_lst.append(roi_name)\n",
    "# collect roi cell numbers\n",
    "roi_cell_dict = {}\n",
    "for cell_id in cell_ids:\n",
    "    roi_name = cell_id[:cell_id.rfind(\"_\")]\n",
    "    if roi_name not in roi_cell_dict:\n",
    "        roi_cell_dict[roi_name] = 1\n",
    "    else:   \n",
    "        roi_cell_dict[roi_name] += 1\n",
    "# collect cell_phenotypes\n",
    "for roi_name in roi_lst:\n",
    "    cell_num = roi_cell_dict[roi_name]\n",
    "    cell_phenotypes.extend([cell_phenotype_dict[roi_name + \"_\" + str(num)] for num in range(1, cell_num + 1)])\n",
    "    library_ids.extend([roi_name, ] * cell_num)\n",
    "    cell_nums.extend([ele for ele in range(1, cell_num + 1)])\n",
    "# convert to Categorical\n",
    "rois_cell_phenotypes = pd.Categorical(cell_phenotypes) \n",
    "rois_library_ids = pd.Categorical(library_ids) \n",
    "rois_adata.obs[\"cell_type\"] = rois_cell_phenotypes\n",
    "rois_adata.obs[\"library_id\"] = rois_library_ids\n",
    "rois_adata.obs[\"cell_id\"] = cell_nums"
   ]
  },
  {
   "cell_type": "code",
   "execution_count": 10,
   "metadata": {},
   "outputs": [],
   "source": [
    "sq.gr.spatial_neighbors(rois_adata, spatial_key=\"spatial\", library_key=\"library_id\", coord_type=\"generic\", radius=16.0)"
   ]
  },
  {
   "cell_type": "code",
   "execution_count": 13,
   "metadata": {},
   "outputs": [],
   "source": [
    "# test_roi_name = \"H14-0290-12-ROI024\"\n",
    "# sq.pl.spatial_scatter(rois_adata, shape=None, color=\"cell_type\", library_id=test_roi_name, library_key=\"library_id\", connectivity_key=\"spatial_connectivities\", figsize=(12, 12), size=10)"
   ]
  },
  {
   "cell_type": "code",
   "execution_count": 15,
   "metadata": {},
   "outputs": [
    {
     "name": "stderr",
     "output_type": "stream",
     "text": [
      "C:\\Users\\PChen6\\.conda\\envs\\GraphML\\lib\\site-packages\\tqdm\\auto.py:22: TqdmWarning: IProgress not found. Please update jupyter and ipywidgets. See https://ipywidgets.readthedocs.io/en/stable/user_install.html\n",
      "  from .autonotebook import tqdm as notebook_tqdm\n",
      "100%|████████████████████████████████████████████████████████████████████████████████| 1000/1000 [01:36<00:00, 10.36/s]\n"
     ]
    }
   ],
   "source": [
    "sq.gr.nhood_enrichment(rois_adata, cluster_key=\"cell_type\")"
   ]
  },
  {
   "cell_type": "code",
   "execution_count": 17,
   "metadata": {},
   "outputs": [
    {
     "data": {
      "text/plain": [
       "{'zscore': array([[ 3.83850967e+02, -2.51090663e+00,  4.04414032e-01,\n",
       "          7.40017690e+00,  1.31762500e+01, -6.34272336e+01,\n",
       "         -7.86990174e+00,  2.24038018e+00,  4.72291349e+01,\n",
       "          5.09231369e+00,  2.05733725e+01, -9.59213453e+00,\n",
       "         -5.23238563e+01, -3.42149395e+00],\n",
       "        [-2.51090663e+00,  6.72732467e+01,  2.19544503e+01,\n",
       "         -3.54917319e-01,  6.61178023e+00, -2.18867346e+01,\n",
       "          1.55135704e+00,  1.72718540e+00, -5.77171329e+00,\n",
       "          1.93247016e+01, -1.82752570e+00, -5.74211386e+00,\n",
       "         -6.61496281e+00,  8.47750184e+00],\n",
       "        [ 4.04414032e-01,  2.19544503e+01,  8.86504246e+01,\n",
       "         -3.89344440e+00,  5.43887486e+00, -2.56243471e+01,\n",
       "         -6.85654746e+00, -4.67196173e+00,  5.23849829e+00,\n",
       "          2.02387559e+01,  2.14786322e+01, -8.26929089e+00,\n",
       "         -1.18117699e+01,  8.30278919e+00],\n",
       "        [ 7.40017690e+00, -3.54917319e-01, -3.89344440e+00,\n",
       "          2.62035483e+02, -2.39231164e+01, -4.46566471e+01,\n",
       "         -2.43143718e+01, -1.96877630e+00,  1.23042782e+01,\n",
       "         -6.72655790e+00, -9.10247176e+00, -5.33160292e+00,\n",
       "         -4.02086166e+01,  1.29094172e+01],\n",
       "        [ 1.31762500e+01,  6.61178023e+00,  5.43887486e+00,\n",
       "         -2.39231164e+01,  9.06952121e+01, -4.32380688e+01,\n",
       "          1.36163666e+00, -1.63496567e-01, -4.59702324e+00,\n",
       "         -4.13982266e-01,  1.44554370e+01, -8.23955289e+00,\n",
       "         -2.36612434e+01, -1.20885479e+01],\n",
       "        [-6.34272336e+01, -2.18867346e+01, -2.56243471e+01,\n",
       "         -4.46566471e+01, -4.32380688e+01,  1.09303510e+02,\n",
       "         -5.22691366e+01, -1.60850879e+01, -6.83241050e+01,\n",
       "         -2.73856731e+01, -2.07577518e+01, -3.04844279e+01,\n",
       "         -4.90696245e+01, -7.20524768e+00],\n",
       "        [-7.86990174e+00,  1.55135704e+00, -6.85654746e+00,\n",
       "         -2.43143718e+01,  1.36163666e+00, -5.22691366e+01,\n",
       "          1.07717037e+02, -8.79840145e+00,  6.40760897e-01,\n",
       "          1.18719229e+01, -1.49901761e+00, -2.09550436e+01,\n",
       "         -4.18237852e+01, -1.62123257e+01],\n",
       "        [ 2.24038018e+00,  1.72718540e+00, -4.67196173e+00,\n",
       "         -1.96877630e+00, -1.63496567e-01, -1.60850879e+01,\n",
       "         -8.79840145e+00,  1.64823678e+02,  7.40026733e+00,\n",
       "          4.60454154e+00, -4.97171432e+00,  9.74920738e-01,\n",
       "         -1.61448554e+01,  1.87220630e+00],\n",
       "        [ 4.72291349e+01, -5.77171329e+00,  5.23849829e+00,\n",
       "          1.23042782e+01, -4.59702324e+00, -6.83241050e+01,\n",
       "          6.40760897e-01,  7.40026733e+00,  1.68334216e+02,\n",
       "          1.55172122e+01,  2.96382401e+01, -1.30792909e+01,\n",
       "         -7.05160457e+01, -8.42088648e+00],\n",
       "        [ 5.09231369e+00,  1.93247016e+01,  2.02387559e+01,\n",
       "         -6.72655790e+00, -4.13982266e-01, -2.73856731e+01,\n",
       "          1.18719229e+01,  4.60454154e+00,  1.55172122e+01,\n",
       "          6.57164530e+01,  1.89137112e+00, -3.98114647e+00,\n",
       "         -1.35023767e+01,  8.98570069e+00],\n",
       "        [ 2.05733725e+01, -1.82752570e+00,  2.14786322e+01,\n",
       "         -9.10247176e+00,  1.44554370e+01, -2.07577518e+01,\n",
       "         -1.49901761e+00, -4.97171432e+00,  2.96382401e+01,\n",
       "          1.89137112e+00,  1.00056586e+02, -9.10563940e+00,\n",
       "         -6.75914131e+00, -3.11189457e+00],\n",
       "        [-9.59213453e+00, -5.74211386e+00, -8.26929089e+00,\n",
       "         -5.33160292e+00, -8.23955289e+00, -3.04844279e+01,\n",
       "         -2.09550436e+01,  9.74920738e-01, -1.30792909e+01,\n",
       "         -3.98114647e+00, -9.10563940e+00,  1.88793676e+02,\n",
       "         -2.36737184e+01, -1.65078759e+01],\n",
       "        [-5.23238563e+01, -6.61496281e+00, -1.18117699e+01,\n",
       "         -4.02086166e+01, -2.36612434e+01, -4.90696245e+01,\n",
       "         -4.18237852e+01, -1.61448554e+01, -7.05160457e+01,\n",
       "         -1.35023767e+01, -6.75914131e+00, -2.36737184e+01,\n",
       "          8.42390572e+01, -2.74432527e+01],\n",
       "        [-3.42149395e+00,  8.47750184e+00,  8.30278919e+00,\n",
       "          1.29094172e+01, -1.20885479e+01, -7.20524768e+00,\n",
       "         -1.62123257e+01,  1.87220630e+00, -8.42088648e+00,\n",
       "          8.98570069e+00, -3.11189457e+00, -1.65078759e+01,\n",
       "         -2.74432527e+01,  1.10447396e+02]]),\n",
       " 'count': array([[18526,   402,   883,   777,  2367,   626,  2389,   393,  4597,\n",
       "           785,  1091,   300,   795,   754],\n",
       "        [  402,  1554,   841,   261,  1018,  1303,  1326,   182,   877,\n",
       "           625,   243,   150,  1557,   557],\n",
       "        [  883,   841,  4352,   422,  1809,  2865,  2089,   226,  2284,\n",
       "          1071,  1001,   273,  2822,   959],\n",
       "        [  777,   261,   422,  7260,   273,   616,   655,   179,  1843,\n",
       "           252,   179,   216,   369,   778],\n",
       "        [ 2367,  1018,  1809,   273, 10478,  5479,  5169,   636,  3960,\n",
       "          1179,  1563,   699,  5407,  1074],\n",
       "        [  626,  1303,  2865,   616,  5479, 56220,  8735,  1210,  4803,\n",
       "          1894,  2052,  1249, 14748,  4123],\n",
       "        [ 2389,  1326,  2089,   655,  5169,  8735, 21892,   700,  6592,\n",
       "          2361,  1612,   653,  6740,  1568],\n",
       "        [  393,   182,   226,   179,   636,  1210,   700,  2656,  1047,\n",
       "           304,   140,   199,   807,   333],\n",
       "        [ 4597,   877,  2284,  1843,  3960,  4803,  6592,  1047, 24226,\n",
       "          2147,  2543,   772,  2615,  1629],\n",
       "        [  785,   625,  1071,   252,  1179,  1894,  2361,   304,  2147,\n",
       "          2400,   432,   273,  1984,   775],\n",
       "        [ 1091,   243,  1001,   179,  1563,  2052,  1612,   140,  2543,\n",
       "           432,  3058,   153,  2090,   447],\n",
       "        [  300,   150,   273,   216,   699,  1249,   653,   199,   772,\n",
       "           273,   153,  4808,  1027,   104],\n",
       "        [  795,  1557,  2822,   369,  5407, 14748,  6740,   807,  2615,\n",
       "          1984,  2090,  1027, 31962,  1841],\n",
       "        [  754,   557,   959,   778,  1074,  4123,  1568,   333,  1629,\n",
       "           775,   447,   104,  1841,  5048]], dtype=uint32)}"
      ]
     },
     "execution_count": 17,
     "metadata": {},
     "output_type": "execute_result"
    }
   ],
   "source": [
    "rois_adata.uns[\"cell_type_nhood_enrichment\"]"
   ]
  },
  {
   "cell_type": "code",
   "execution_count": 19,
   "metadata": {},
   "outputs": [
    {
     "data": {
      "image/png": "[encoded data removed]",
      "text/plain": [
       "<Figure size 648x648 with 4 Axes>"
      ]
     },
     "metadata": {
      "needs_background": "light"
     },
     "output_type": "display_data"
    }
   ],
   "source": [
    "sq.pl.nhood_enrichment(rois_adata, cluster_key=\"cell_type\")"
   ]
  },
  {
   "cell_type": "code",
   "execution_count": null,
   "metadata": {},
   "outputs": [],
   "source": []
  }
 ],
 "metadata": {
  "kernelspec": {
   "display_name": "GraphML",
   "language": "python",
   "name": "graphml"
  },
  "language_info": {
   "codemirror_mode": {
    "name": "ipython",
    "version": 3
   },
   "file_extension": ".py",
   "mimetype": "text/x-python",
   "name": "python",
   "nbconvert_exporter": "python",
   "pygments_lexer": "ipython3",
   "version": "3.8.5"
  }
 },
 "nbformat": 4,
 "nbformat_minor": 4
}
